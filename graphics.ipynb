{
 "cells": [
  {
   "cell_type": "code",
   "execution_count": 130,
   "metadata": {
    "collapsed": true
   },
   "outputs": [],
   "source": [
    "from matplotlib import pyplot as plt\n",
    "import numpy as np\n",
    "import os\n",
    "import random\n",
    "import math\n",
    "import scipy"
   ]
  },
  {
   "cell_type": "code",
   "execution_count": 234,
   "metadata": {
    "collapsed": true
   },
   "outputs": [],
   "source": [
    "N = 10000"
   ]
  },
  {
   "cell_type": "code",
   "execution_count": 255,
   "metadata": {},
   "outputs": [
    {
     "data": {
      "image/png": "[encoded data removed]",
      "text/plain": [
       "<matplotlib.figure.Figure at 0x15f27d5cef0>"
      ]
     },
     "metadata": {},
     "output_type": "display_data"
    },
    {
     "data": {
      "image/png": "[encoded data removed]",
      "text/plain": [
       "<matplotlib.figure.Figure at 0x15f27aa3b70>"
      ]
     },
     "metadata": {},
     "output_type": "display_data"
    }
   ],
   "source": [
    "# entropy\n",
    "def entropy(X):\n",
    "    hist, _ = np.histogram(X, bins=len(set(X))) \n",
    "    probs = hist / len(X)    \n",
    "    return -sum(probs * np.log2(probs))\n",
    "\n",
    "def gini(X):\n",
    "    hist, _ = np.histogram(X, bins=len(set(X))) \n",
    "    probs = hist / len(X)    \n",
    "    return 1 - sum(np.square(probs))\n",
    "\n",
    "def plt_dist(X, title=None, labels=None, figsize=(5, 3), range=(0, 6), color=None): \n",
    "    plt.hist(X, rwidth=0.7, bins=max(range) - min(range) , range=range, align='left', color=color)\n",
    "    plt.title(title)\n",
    "    plt.ylabel('N')\n",
    "    plt.gca().set_xticklabels(labels)\n",
    "    \n",
    "data = np.random.randint(0, 6, (N))\n",
    "data2 = [int(x) for x in np.random.normal(loc=3, size=(N)) if 0 <= x <= 6]\n",
    "data3 = [2] * (N // 2) + [4] * (N // 2)\n",
    "labels = ['', 'cape', 'hammer', 'shield', 'mask', 'net', 'nothing']\n",
    "   \n",
    "plt.subplot(131); plt_dist(data, 'uniform distribution', labels, color='C0')\n",
    "plt.subplot(132); plt_dist(data2, 'normal distribution', labels, color='C1')\n",
    "plt.subplot(133); plt_dist(data3, 'binary distribution', labels, color='C2')\n",
    "plt.gcf().set_size_inches(15, 3)\n",
    "plt.show()\n",
    "\n",
    "plt.subplot(121)\n",
    "plt.bar(0, [entropy(data)], width=0.5, color='C0')\n",
    "plt.bar(1, [entropy(data2)], width=0.5, color='C1')\n",
    "plt.bar(2, [entropy(data3)], width=0.5, color='C2')\n",
    "plt.gca().set_xticklabels(['', 'uniform', 'normal', 'binary'])\n",
    "plt.title('entropy')\n",
    "\n",
    "plt.subplot(122)\n",
    "plt.bar(0, [gini(data)], width=0.5, color='C0')\n",
    "plt.bar(1, [gini(data2)], width=0.5, color='C1')\n",
    "plt.bar(2, [gini(data3)], width=0.5, color='C2')\n",
    "plt.gca().set_xticklabels(['', 'uniform', 'normal', 'binary'])\n",
    "plt.title('gini')\n",
    "\n",
    "plt.gcf().set_size_inches(6, 3)\n",
    "plt.show()\n",
    "            "
   ]
  },
  {
   "cell_type": "code",
   "execution_count": 13,
   "metadata": {},
   "outputs": [
    {
     "data": {
      "text/plain": [
       "{1: 230, 2: 30, 3: 12, 4: 20}"
      ]
     },
     "execution_count": 13,
     "metadata": {},
     "output_type": "execute_result"
    }
   ],
   "source": [
    "a = {1: 10, 2: 30, 3:12, 4:20, 1: 230}\n",
    "a"
   ]
  }
 ],
 "metadata": {
  "kernelspec": {
   "display_name": "Python 3",
   "language": "python",
   "name": "python3"
  },
  "language_info": {
   "codemirror_mode": {
    "name": "ipython",
    "version": 3
   },
   "file_extension": ".py",
   "mimetype": "text/x-python",
   "name": "python",
   "nbconvert_exporter": "python",
   "pygments_lexer": "ipython3",
   "version": "3.6.2"
  }
 },
 "nbformat": 4,
 "nbformat_minor": 2
}
